{
 "cells": [
  {
   "cell_type": "code",
   "execution_count": 4,
   "metadata": {},
   "outputs": [
    {
     "name": "stdout",
     "output_type": "stream",
     "text": [
      "Failed to reject the null hypothesis. The mean scores are the same.\n"
     ]
    }
   ],
   "source": [
    "# To test the hypothesis that the mean scores of all the students are the same, we can use a one-way ANOVA test.\n",
    "import pandas as pd\n",
    "from scipy.stats import f_oneway\n",
    "\n",
    "# Create a DataFrame with the given scores\n",
    "data = {\n",
    "    'Name': ['Karan', 'Deepa', 'Karthik', 'Chandan', 'Jeevan'],\n",
    "    'Exam1': [85, 70, 90, 75, 95],\n",
    "    'Exam2': [90, 80, 85, 70, 92],\n",
    "    'Final Exam': [92, 85, 88, 75, 96]\n",
    "}\n",
    "\n",
    "try:\n",
    "    # Try to create the DataFrame\n",
    "    df = pd.DataFrame(data)\n",
    "\n",
    "    # Perform one-way ANOVA\n",
    "    f_statistic, p_value = f_oneway(df['Exam1'], df['Exam2'], df['Final Exam'])\n",
    "\n",
    "    # Check if the p-value is less than the significance level (e.g., 0.05)\n",
    "    significance_level = 0.05\n",
    "    if p_value > significance_level:\n",
    "        print(\"Failed to reject the null hypothesis. The mean scores are the same.\")\n",
    "    else:\n",
    "        print(\"Reject the null hypothesis. The mean scores are not the same.\")\n",
    "\n",
    "        # Find the student with the highest score\n",
    "        df['Total Score'] = df['Exam1'] + df['Exam2'] + df['Final Exam']\n",
    "        student_with_highest_score = df.loc[df['Total Score'].idxmax(), 'Name']\n",
    "        print(\"Student with the highest score:\", student_with_highest_score)\n",
    "\n",
    "except Exception as e:\n",
    "    print(\"An error occurred:\", str(e))"
   ]
  }
 ],
 "metadata": {
  "kernelspec": {
   "display_name": "base",
   "language": "python",
   "name": "python3"
  },
  "language_info": {
   "name": "python",
   "version": "3.9.7"
  },
  "orig_nbformat": 4
 },
 "nbformat": 4,
 "nbformat_minor": 2
}
