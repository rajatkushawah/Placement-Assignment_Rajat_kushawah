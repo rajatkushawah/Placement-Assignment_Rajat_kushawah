{
 "cells": [
  {
   "cell_type": "code",
   "execution_count": 1,
   "metadata": {},
   "outputs": [
    {
     "name": "stdout",
     "output_type": "stream",
     "text": [
      "Failed to reject the null hypothesis. There is no significant difference in the mean improvement scores between the two groups.\n",
      "There is no statistically significant difference in the effectiveness of the new drug compared to the standard drug.\n"
     ]
    }
   ],
   "source": [
    "import scipy.stats as stats\n",
    "\n",
    "try:\n",
    "    # Data for Group A\n",
    "    mean_a = 2.5\n",
    "    std_a = 0.8\n",
    "    n_a = 30\n",
    "\n",
    "    # Data for Group B\n",
    "    mean_b = 2.2\n",
    "    std_b = 0.6\n",
    "    n_b = 30\n",
    "\n",
    "    # Perform independent t-test\n",
    "    t_statistic, p_value = stats.ttest_ind_from_stats(mean_a, std_a, n_a, mean_b, std_b, n_b)\n",
    "\n",
    "    # Check if the p-value is less than the significance level (e.g., 0.05)\n",
    "    significance_level = 0.05\n",
    "    if p_value < significance_level:\n",
    "        print(\"Reject the null hypothesis. There is a significant difference in the mean improvement scores between the two groups.\")\n",
    "    else:\n",
    "        print(\"Failed to reject the null hypothesis. There is no significant difference in the mean improvement scores between the two groups.\")\n",
    "\n",
    "    # Provide a conclusion in the context of the study\n",
    "    if p_value < significance_level:\n",
    "        print(\"The new drug is statistically more effective than the standard drug in improving the specific symptom.\")\n",
    "    else:\n",
    "        print(\"There is no statistically significant difference in the effectiveness of the new drug compared to the standard drug.\")\n",
    "\n",
    "except Exception as e:\n",
    "    print(\"An error occurred:\", str(e))"
   ]
  }
 ],
 "metadata": {
  "kernelspec": {
   "display_name": "base",
   "language": "python",
   "name": "python3"
  },
  "language_info": {
   "codemirror_mode": {
    "name": "ipython",
    "version": 3
   },
   "file_extension": ".py",
   "mimetype": "text/x-python",
   "name": "python",
   "nbconvert_exporter": "python",
   "pygments_lexer": "ipython3",
   "version": "3.9.7"
  },
  "orig_nbformat": 4
 },
 "nbformat": 4,
 "nbformat_minor": 2
}
