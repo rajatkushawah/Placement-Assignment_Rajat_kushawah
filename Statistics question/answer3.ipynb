{
 "cells": [
  {
   "cell_type": "code",
   "execution_count": 6,
   "metadata": {},
   "outputs": [
    {
     "name": "stdout",
     "output_type": "stream",
     "text": [
      "Dispersion (Variance) in Blood Pressure Before: 43.10189999999998\n",
      "Dispersion (Variance) in Blood Pressure After: 46.97040000000002\n",
      "Mean Blood Pressure Before: 133.91\n",
      "Mean Blood Pressure After: 128.36\n",
      "95% Confidence Interval (Blood Pressure Before): [124. 145.]\n",
      "95% Confidence Interval (Blood Pressure After): [118. 141.]\n"
     ]
    },
    {
     "data": {
      "image/png": "[encoded data removed]",
      "text/plain": [
       "<Figure size 432x288 with 1 Axes>"
      ]
     },
     "metadata": {
      "needs_background": "light"
     },
     "output_type": "display_data"
    },
    {
     "name": "stdout",
     "output_type": "stream",
     "text": [
      "Mean Absolute Deviation (Blood Pressure Before): 5.7118\n",
      "Mean Absolute Deviation (Blood Pressure After): 5.9\n",
      "Standard Deviation (Blood Pressure Before): 6.5652037287505385\n",
      "Standard Deviation (Blood Pressure After): 6.853495458523338\n",
      "Correlation Coefficient: 0.9779485966556016\n",
      "T-value: 46.35573256849115\n",
      "P-value: 0.0\n"
     ]
    }
   ],
   "source": [
    "import numpy as np\n",
    "import pandas as pd\n",
    "import requests\n",
    "from io import StringIO\n",
    "import matplotlib.pyplot as plt\n",
    "from scipy import stats\n",
    "\n",
    "try:\n",
    "    # Download the CSV file from the URL and read it using pandas\n",
    "    file_url = 'https://drive.google.com/uc?id=1mCjtYHiX--mMUjicuaP2gH3k-SnFxt8Y'\n",
    "    response = requests.get(file_url)\n",
    "    data = response.content.decode('utf-8')\n",
    "    df = pd.read_csv(StringIO(data))\n",
    "    \n",
    "    # Extract the 'Blood Pressure Before' and 'Blood Pressure After' columns as NumPy arrays\n",
    "    blood_pressure_before = df[' Blood Pressure Before (mmHg)']\n",
    "    blood_pressure_after = df[' Blood Pressure After (mmHg)']\n",
    "\n",
    "    # a. Measure the dispersion in both and interpret the results\n",
    "    before_dispersion = np.var(blood_pressure_before)\n",
    "    after_dispersion = np.var(blood_pressure_after)\n",
    "    print(\"Dispersion (Variance) in Blood Pressure Before:\", before_dispersion)\n",
    "    print(\"Dispersion (Variance) in Blood Pressure After:\", after_dispersion)\n",
    "\n",
    "    # b. Calculate mean and 5% confidence interval and plot it in a graph\n",
    "    before_mean = np.mean(blood_pressure_before)\n",
    "    after_mean = np.mean(blood_pressure_after)\n",
    "    before_ci = np.percentile(blood_pressure_before, [2.5, 97.5])\n",
    "    after_ci = np.percentile(blood_pressure_after, [2.5, 97.5])\n",
    "    print(\"Mean Blood Pressure Before:\", before_mean)\n",
    "    print(\"Mean Blood Pressure After:\", after_mean)\n",
    "    print(\"95% Confidence Interval (Blood Pressure Before):\", before_ci)\n",
    "    print(\"95% Confidence Interval (Blood Pressure After):\", after_ci)\n",
    "\n",
    "    # Plotting the mean and 5% confidence interval\n",
    "    plt.errorbar(['Before', 'After'], [before_mean, after_mean], yerr=[before_mean - before_ci[0], after_mean - after_ci[0]], fmt='o')\n",
    "    plt.xlabel('Condition')\n",
    "    plt.ylabel('Blood Pressure (mmHg)')\n",
    "    plt.title('Mean Blood Pressure with 95% Confidence Interval')\n",
    "    plt.show()\n",
    "\n",
    "    # c. Calculate the Mean absolute deviation and Standard deviation and interpret the results\n",
    "    before_mad = np.mean(np.abs(blood_pressure_before - before_mean))\n",
    "    after_mad = np.mean(np.abs(blood_pressure_after - after_mean))\n",
    "    before_std = np.std(blood_pressure_before)\n",
    "    after_std = np.std(blood_pressure_after)\n",
    "    print(\"Mean Absolute Deviation (Blood Pressure Before):\", before_mad)\n",
    "    print(\"Mean Absolute Deviation (Blood Pressure After):\", after_mad)\n",
    "    print(\"Standard Deviation (Blood Pressure Before):\", before_std)\n",
    "    print(\"Standard Deviation (Blood Pressure After):\", after_std)\n",
    "\n",
    "    # d. Calculate the correlation coefficient and check the significance of it at 1% level of significance\n",
    "    correlation_coefficient = np.corrcoef(blood_pressure_before, blood_pressure_after)[0, 1]\n",
    "    n = len(blood_pressure_before)\n",
    "    t_value = correlation_coefficient * np.sqrt((n - 2) / (1 - correlation_coefficient**2))\n",
    "    p_value = 2 * (1 - stats.t.cdf(abs(t_value), df=n-2))\n",
    "    print(\"Correlation Coefficient:\", correlation_coefficient)\n",
    "    print(\"T-value:\", t_value)\n",
    "    print(\"P-value:\", p_value)\n",
    "\n",
    "except Exception as e:\n",
    "    print(\"An error occurred:\", str(e))"
   ]
  }
 ],
 "metadata": {
  "kernelspec": {
   "display_name": "base",
   "language": "python",
   "name": "python3"
  },
  "language_info": {
   "codemirror_mode": {
    "name": "ipython",
    "version": 3
   },
   "file_extension": ".py",
   "mimetype": "text/x-python",
   "name": "python",
   "nbconvert_exporter": "python",
   "pygments_lexer": "ipython3",
   "version": "3.9.7"
  },
  "orig_nbformat": 4
 },
 "nbformat": 4,
 "nbformat_minor": 2
}
