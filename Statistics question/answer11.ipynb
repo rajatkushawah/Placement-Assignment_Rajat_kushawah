{
 "cells": [
  {
   "cell_type": "code",
   "execution_count": 2,
   "metadata": {},
   "outputs": [
    {
     "name": "stdout",
     "output_type": "stream",
     "text": [
      "The distribution of all the classes is not the same.\n",
      "The variances are equal.\n",
      "The means are not equal between all the classes.\n"
     ]
    }
   ],
   "source": [
    "import pandas as pd\n",
    "import requests\n",
    "from io import StringIO\n",
    "from scipy.stats import f_oneway, bartlett\n",
    "\n",
    "# Download the data from the provided URL\n",
    "file_url = 'https://drive.google.com/uc?id=1mCjtYHiX--mMUjicuaP2gH3k-SnFxt8Y'\n",
    "response = requests.get(file_url)\n",
    "data = response.content.decode('utf-8')\n",
    "\n",
    "# Read the data into a DataFrame\n",
    "try:\n",
    "    df = pd.read_csv(StringIO(data))\n",
    "\n",
    "    # Case a: Perform one-way ANOVA to check the distribution of all the classes are the same or not.\n",
    "    f_statistic, p_value = f_oneway(df[' Blood Pressure Before (mmHg)'], df[' Blood Pressure After (mmHg)'])\n",
    "\n",
    "    # Check if the p-value is less than the significance level (e.g., 0.05)\n",
    "    significance_level = 0.05\n",
    "    if p_value < significance_level:\n",
    "        print(\"The distribution of all the classes is not the same.\")\n",
    "    else:\n",
    "        print(\"The distribution of all the classes is the same.\")\n",
    "\n",
    "    # Case b: Perform Bartlett's test for equality of variances\n",
    "    stat, p_value = bartlett(df[' Blood Pressure Before (mmHg)'], df[' Blood Pressure After (mmHg)'])\n",
    "\n",
    "    # Check if the p-value is less than the significance level (e.g., 0.05)\n",
    "    if p_value < significance_level:\n",
    "        print(\"The variances are not equal.\")\n",
    "    else:\n",
    "        print(\"The variances are equal.\")\n",
    "\n",
    "    # Case c: Since the data is not provided separately for each class, LDA and QDA cannot be performed\n",
    "\n",
    "    # Case d: Check the equality of mean for between all the classes\n",
    "    mean_before = df[' Blood Pressure Before (mmHg)'].mean()\n",
    "    mean_after = df[' Blood Pressure After (mmHg)'].mean()\n",
    "\n",
    "    if mean_before == mean_after:\n",
    "        print(\"The means are equal between all the classes.\")\n",
    "    else:\n",
    "        print(\"The means are not equal between all the classes.\")\n",
    "\n",
    "except Exception as e:\n",
    "    print(\"An error occurred:\", str(e))"
   ]
  }
 ],
 "metadata": {
  "kernelspec": {
   "display_name": "base",
   "language": "python",
   "name": "python3"
  },
  "language_info": {
   "codemirror_mode": {
    "name": "ipython",
    "version": 3
   },
   "file_extension": ".py",
   "mimetype": "text/x-python",
   "name": "python",
   "nbconvert_exporter": "python",
   "pygments_lexer": "ipython3",
   "version": "3.9.7"
  },
  "orig_nbformat": 4
 },
 "nbformat": 4,
 "nbformat_minor": 2
}
