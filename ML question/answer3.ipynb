{
 "cells": [
  {
   "cell_type": "code",
   "execution_count": 40,
   "metadata": {},
   "outputs": [],
   "source": [
    "# I have seen this code working but with output this program is not showing on github so I uploading it without output."
   ]
  },
  {
   "cell_type": "code",
   "execution_count": null,
   "metadata": {},
   "outputs": [],
   "source": [
    "import json\n",
    "import pandas as pd\n",
    "from sklearn.feature_extraction.text import TfidfVectorizer\n",
    "from sklearn.metrics.pairwise import cosine_similarity, euclidean_distances, manhattan_distances\n",
    "\n",
    "data = []\n",
    "\n",
    "# Read the file line by line and skip invalid lines\n",
    "with open('News_Category_Dataset_v3.json', 'r') as f:\n",
    "    for line in f:\n",
    "        try:\n",
    "            obj = json.loads(line)\n",
    "            data.append(obj)\n",
    "        except json.JSONDecodeError:\n",
    "            continue\n",
    "\n",
    "# Create a DataFrame from the parsed JSON objects\n",
    "df = pd.DataFrame(data)\n",
    "\n",
    "\n",
    "# Use the DataFrame in the existing code\n",
    "\n",
    "try:\n",
    "    # Preprocess the data if needed\n",
    "\n",
    "    # Select the given data for comparison\n",
    "    given_data = \"Cleaner Was Dead In Belk Bathroom For 4 Days Before Body Found: Police\"\n",
    "\n",
    "    # Extract the text feature from the dataset\n",
    "    text_data = df['headline']\n",
    "\n",
    "    # Initialize the vectorizer\n",
    "    vectorizer = TfidfVectorizer()\n",
    "\n",
    "    # Create the TF-IDF matrix\n",
    "    tfidf_matrix = vectorizer.fit_transform(text_data)\n",
    "\n",
    "    # Convert the given data to TF-IDF representation\n",
    "    given_data_tfidf = vectorizer.transform([given_data])\n",
    "\n",
    "    # Calculate the similarity scores using different algorithms\n",
    "\n",
    "    # Cosine similarity\n",
    "    cosine_similarities = cosine_similarity(given_data_tfidf, tfidf_matrix).flatten()\n",
    "\n",
    "    # Euclidean distance\n",
    "    euclidean_distances = euclidean_distances(given_data_tfidf, tfidf_matrix).flatten()\n",
    "\n",
    "    # Manhattan distance\n",
    "    manhattan_distances = manhattan_distances(given_data_tfidf, tfidf_matrix).flatten()\n",
    "\n",
    "    # Combine the similarity scores\n",
    "    combined_scores = (cosine_similarities + euclidean_distances + manhattan_distances) / 3\n",
    "\n",
    "    # Sort the indices based on the combined scores\n",
    "    sorted_indices = combined_scores.argsort()[::-1]\n",
    "\n",
    "    # Get the most similar data points\n",
    "    most_similar_data = df.iloc[sorted_indices[:10]]  # Change the number based on your requirement\n",
    "\n",
    "    # Print the most similar data\n",
    "    print(most_similar_data[['headline', 'category']])\n",
    "\n",
    "except Exception as e:\n",
    "    print(\"An error occurred:\", str(e))"
   ]
  },
  {
   "cell_type": "code",
   "execution_count": null,
   "metadata": {},
   "outputs": [],
   "source": []
  }
 ],
 "metadata": {
  "kernelspec": {
   "display_name": "base",
   "language": "python",
   "name": "python3"
  },
  "language_info": {
   "codemirror_mode": {
    "name": "ipython",
    "version": 3
   },
   "file_extension": ".py",
   "mimetype": "text/x-python",
   "name": "python",
   "nbconvert_exporter": "python",
   "pygments_lexer": "ipython3",
   "version": "3.8.3"
  },
  "orig_nbformat": 4
 },
 "nbformat": 4,
 "nbformat_minor": 2
}
