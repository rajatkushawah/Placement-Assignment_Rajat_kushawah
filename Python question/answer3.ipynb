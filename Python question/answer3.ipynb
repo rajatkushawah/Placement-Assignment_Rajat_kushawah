{
 "cells": [
  {
   "cell_type": "code",
   "execution_count": 1,
   "metadata": {},
   "outputs": [
    {
     "name": "stdout",
     "output_type": "stream",
     "text": [
      "An error occurred: HTTPSConnectionPool(host='raw.githubusercontent.com', port=443): Max retries exceeded with url: /Biuni/PokemonGO-Pokedex/master/pokedex.json (Caused by NewConnectionError('<urllib3.connection.HTTPSConnection object at 0x00000017D329E6D0>: Failed to establish a new connection: [WinError 10060] A connection attempt failed because the connected party did not properly respond after a period of time, or established connection failed because connected host has failed to respond'))\n"
     ]
    }
   ],
   "source": [
    "import pandas as pd\n",
    "import requests\n",
    "\n",
    "def download_and_convert_data_in_excel(url):\n",
    "    try:\n",
    "        # Download the data from the provided URL\n",
    "        response = requests.get(url)\n",
    "        data = response.json()\n",
    "\n",
    "        # Extract the required attributes from the data\n",
    "        rows = []\n",
    "        for pokemon in data[\"pokemon\"]:\n",
    "            row = {\n",
    "                \"id\": pokemon[\"id\"],\n",
    "                \"num\": pokemon[\"num\"],\n",
    "                \"name\": pokemon[\"name\"],\n",
    "                \"img\": pokemon[\"img\"],\n",
    "                \"type\": \", \".join(pokemon[\"type\"]),\n",
    "                \"height\": pokemon[\"height\"],\n",
    "                \"weight\": pokemon[\"weight\"],\n",
    "                \"candy\": pokemon.get(\"candy\", \"\"),\n",
    "                \"candy_count\": pokemon.get(\"candy_count\", 0),\n",
    "                \"egg\": pokemon.get(\"egg\", \"\"),\n",
    "                \"spawn_chance\": pokemon.get(\"spawn_chance\", 0.0),\n",
    "                \"avg_spawns\": pokemon.get(\"avg_spawns\", 0),\n",
    "                \"spawn_time\": pokemon.get(\"spawn_time\", \"\"),\n",
    "                \"multipliers\": \", \".join(str(m) for m in pokemon.get(\"multipliers\", [])),\n",
    "                \"weakness\": \", \".join(pokemon.get(\"weaknesses\", [])),\n",
    "                \"next_evolution\": \", \".join(evo[\"name\"] for evo in pokemon.get(\"next_evolution\", [])),\n",
    "                \"prev_evolution\": \", \".join(evo[\"name\"] for evo in pokemon.get(\"prev_evolution\", []))\n",
    "            }\n",
    "            rows.append(row)\n",
    "\n",
    "        # Create a DataFrame from the extracted data\n",
    "        df = pd.DataFrame(rows)\n",
    "\n",
    "        # Save the DataFrame as an Excel file\n",
    "        output_file = \"pokemon_data.xlsx\"\n",
    "        df.to_excel(output_file, index=False)\n",
    "        print(f\"Data saved successfully as {output_file}\")\n",
    "    except Exception as e:\n",
    "        print(\"An error occurred:\", str(e))\n",
    "\n",
    "# Provide the URL to download the data\n",
    "url = \"https://raw.githubusercontent.com/Biuni/PokemonGO-Pokedex/master/pokedex.json\"\n",
    "\n",
    "# Call the function to download and convert the data\n",
    "download_and_convert_data_in_excel(url)"
   ]
  }
 ],
 "metadata": {
  "kernelspec": {
   "display_name": "base",
   "language": "python",
   "name": "python3"
  },
  "language_info": {
   "codemirror_mode": {
    "name": "ipython",
    "version": 3
   },
   "file_extension": ".py",
   "mimetype": "text/x-python",
   "name": "python",
   "nbconvert_exporter": "python",
   "pygments_lexer": "ipython3",
   "version": "3.9.7"
  },
  "orig_nbformat": 4
 },
 "nbformat": 4,
 "nbformat_minor": 2
}
