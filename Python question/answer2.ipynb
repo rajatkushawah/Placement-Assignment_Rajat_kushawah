{
 "cells": [
  {
   "cell_type": "code",
   "execution_count": 1,
   "metadata": {},
   "outputs": [
    {
     "name": "stdout",
     "output_type": "stream",
     "text": [
      "YES\n",
      "Explanation: All characters appear the same number of times (frequency of 1). So, the string is valid. The output should be 'YES'.\n",
      "NO\n",
      "Explanation: We can remove only 1 occurrence of 'c' to make all frequencies the same (frequency of 1). However, if we remove 2 occurrences of 'c', the frequency becomes 2. So, the string is not valid. The output should be 'NO'.\n",
      "YES\n",
      "Explanation: All characters appear the same number of times (frequency of 2). So, the string is valid. The output should be 'YES'.\n",
      "YES\n",
      "Explanation: We can remove 1 occurrence of 'c' to make all frequencies the same (frequency of 2). So, the string is valid. The output should be 'YES'.\n"
     ]
    }
   ],
   "source": [
    "from collections import Counter\n",
    "\n",
    "def is_valid_string(s):\n",
    "    try:\n",
    "        # Count the frequency of each character in the string\n",
    "        char_counts = Counter(s)\n",
    "\n",
    "        # Count the frequency of frequencies\n",
    "        frequency_counts = Counter(char_counts.values())\n",
    "\n",
    "        # If all frequencies are the same or there is only one character with a frequency of one\n",
    "        if len(frequency_counts) == 1 or (len(frequency_counts) == 2 and frequency_counts[1] == 1):\n",
    "            return \"YES\"\n",
    "        else:\n",
    "            return \"NO\"\n",
    "    except Exception as e:\n",
    "        print(\"An error occurred:\", str(e))\n",
    "        return \"NO\"\n",
    "\n",
    "# Test Case 1\n",
    "input_string1 = \"abc\"\n",
    "result1 = is_valid_string(input_string1)\n",
    "print(result1)\n",
    "print(\"Explanation: All characters appear the same number of times (frequency of 1). So, the string is valid. The output should be 'YES'.\")\n",
    "\n",
    "# Test Case 2\n",
    "input_string2 = \"abcc\"\n",
    "result2 = is_valid_string(input_string2)\n",
    "print(result2)\n",
    "print(\"Explanation: We can remove only 1 occurrence of 'c' to make all frequencies the same (frequency of 1). However, if we remove 2 occurrences of 'c', the frequency becomes 2. So, the string is not valid. The output should be 'NO'.\")\n",
    "\n",
    "# Test Case 3\n",
    "input_string3 = \"aabbcc\"\n",
    "result3 = is_valid_string(input_string3)\n",
    "print(result3)\n",
    "print(\"Explanation: All characters appear the same number of times (frequency of 2). So, the string is valid. The output should be 'YES'.\")\n",
    "\n",
    "# Test Case 4\n",
    "input_string4 = \"aabbc\"\n",
    "# Explanation: We can remove 1 occurrence of \"c\" to make all frequencies the same (frequency of 2).\n",
    "# So, the string is valid. The output should be \"YES\".\n",
    "result4 = is_valid_string(input_string3)\n",
    "print(result3)\n",
    "print(\"Explanation: We can remove 1 occurrence of 'c' to make all frequencies the same (frequency of 2). So, the string is valid. The output should be 'YES'.\")"
   ]
  }
 ],
 "metadata": {
  "kernelspec": {
   "display_name": "base",
   "language": "python",
   "name": "python3"
  },
  "language_info": {
   "codemirror_mode": {
    "name": "ipython",
    "version": 3
   },
   "file_extension": ".py",
   "mimetype": "text/x-python",
   "name": "python",
   "nbconvert_exporter": "python",
   "pygments_lexer": "ipython3",
   "version": "3.9.7"
  },
  "orig_nbformat": 4
 },
 "nbformat": 4,
 "nbformat_minor": 2
}
