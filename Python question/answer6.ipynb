{
 "cells": [
  {
   "cell_type": "code",
   "execution_count": 1,
   "metadata": {},
   "outputs": [
    {
     "name": "stdout",
     "output_type": "stream",
     "text": [
      "An error occurred: [Errno 2] No such file or directory: 'pokemon_data.xlsx'\n"
     ]
    }
   ],
   "source": [
    "import pandas as pd\n",
    "import matplotlib.pyplot as plt\n",
    "\n",
    "def analyze_pokemon_data(file_path):\n",
    "    try:\n",
    "        # Read the Pokemon data from the Excel file\n",
    "        df = pd.read_excel(file_path)\n",
    "\n",
    "        # Get all Pokemons whose spawn rate is less than 5%\n",
    "        spawn_rate_less_than_5 = df[df['spawn_chance'] < 5]\n",
    "        print(\"Pokemons with spawn rate less than 5%:\")\n",
    "        print(spawn_rate_less_than_5)\n",
    "\n",
    "        # Get all Pokemons that have less than 4 weaknesses\n",
    "        less_than_4_weaknesses = df[df['weakness'].apply(lambda x: len(x.split(','))) < 4]\n",
    "        print(\"Pokemons with less than 4 weaknesses:\")\n",
    "        print(less_than_4_weaknesses)\n",
    "\n",
    "        # Get all Pokemons that have no multipliers at all\n",
    "        no_multipliers = df[df['multipliers'] == '']\n",
    "        print(\"Pokemons with no multipliers:\")\n",
    "        print(no_multipliers)\n",
    "\n",
    "        # Get all Pokemons that do not have more than 2 evolutions\n",
    "        no_more_than_2_evolutions = df[df['next_evolution'].apply(lambda x: len(x.split(','))) <= 2]\n",
    "        print(\"Pokemons with no more than 2 evolutions:\")\n",
    "        print(no_more_than_2_evolutions)\n",
    "\n",
    "        # Get all Pokemons whose spawn time is less than 300 seconds\n",
    "        df['spawn_time'] = pd.to_datetime(df['spawn_time'], format='%M:%S')\n",
    "        spawn_time_less_than_300 = df[df['spawn_time'].dt.total_seconds() < 300]\n",
    "        print(\"Pokemons with spawn time less than 300 seconds:\")\n",
    "        print(spawn_time_less_than_300)\n",
    "\n",
    "        # Get all Pokemon who have more than two types of capabilities\n",
    "        df['num_types'] = df['type'].apply(lambda x: len(x.split(',')))\n",
    "        more_than_2_types = df[df['num_types'] > 2]\n",
    "        print(\"Pokemons with more than two types:\")\n",
    "        print(more_than_2_types)\n",
    "\n",
    "        # Visualize the analysis using plots\n",
    "        # Plot 1: Bar plot of Pokemons with less than 4 weaknesses\n",
    "        plt.figure(figsize=(10, 6))\n",
    "        plt.bar(less_than_4_weaknesses['name'], less_than_4_weaknesses['weakness'].apply(lambda x: len(x.split(','))))\n",
    "        plt.xlabel('Pokemon')\n",
    "        plt.ylabel('Number of Weaknesses')\n",
    "        plt.title('Pokemons with Less than 4 Weaknesses')\n",
    "        plt.xticks(rotation=90)\n",
    "        plt.show()\n",
    "\n",
    "        # Plot 2: Pie chart of Pokemon types\n",
    "        plt.figure(figsize=(8, 8))\n",
    "        df['type'].str.split(',').explode().value_counts().plot(kind='pie', autopct='%1.1f%%')\n",
    "        plt.title('Distribution of Pokemon Types')\n",
    "        plt.ylabel('')\n",
    "        plt.show()\n",
    "\n",
    "    except Exception as e:\n",
    "        print(\"An error occurred:\", str(e))\n",
    "\n",
    "\n",
    "# Specify the file path of the Pokemon data Excel file\n",
    "file_path = 'pokemon_data.xlsx'\n",
    "\n",
    "# Call the function to analyze the Pokemon data\n",
    "analyze_pokemon_data(file_path)"
   ]
  }
 ],
 "metadata": {
  "kernelspec": {
   "display_name": "base",
   "language": "python",
   "name": "python3"
  },
  "language_info": {
   "codemirror_mode": {
    "name": "ipython",
    "version": 3
   },
   "file_extension": ".py",
   "mimetype": "text/x-python",
   "name": "python",
   "nbconvert_exporter": "python",
   "pygments_lexer": "ipython3",
   "version": "3.9.7"
  },
  "orig_nbformat": 4
 },
 "nbformat": 4,
 "nbformat_minor": 2
}
