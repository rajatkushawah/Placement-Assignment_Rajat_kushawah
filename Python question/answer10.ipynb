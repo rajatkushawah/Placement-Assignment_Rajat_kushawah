{
 "cells": [
  {
   "cell_type": "code",
   "execution_count": null,
   "metadata": {},
   "outputs": [],
   "source": [
    "import nltk\n",
    "from nltk.tokenize import word_tokenize\n",
    "from nltk.tag import pos_tag\n",
    "\n",
    "def count_pos_tags(text):\n",
    "    try:\n",
    "        # Tokenize the text into words\n",
    "        words = word_tokenize(text)\n",
    "\n",
    "        # Perform part-of-speech tagging\n",
    "        tagged_words = pos_tag(words)\n",
    "\n",
    "        # Initialize counts dictionary\n",
    "        counts = {\n",
    "            'Noun': 0,\n",
    "            'Pronoun': 0,\n",
    "            'Verb': 0,\n",
    "            'Adjective': 0\n",
    "        }\n",
    "\n",
    "        # Count the number of each POS tag\n",
    "        for word, tag in tagged_words:\n",
    "            if tag.startswith('N'):\n",
    "                counts['Noun'] += 1\n",
    "            elif tag.startswith('PR'):\n",
    "                counts['Pronoun'] += 1\n",
    "            elif tag.startswith('V'):\n",
    "                counts['Verb'] += 1\n",
    "            elif tag.startswith('J'):\n",
    "                counts['Adjective'] += 1\n",
    "\n",
    "        return counts\n",
    "\n",
    "    except Exception as e:\n",
    "        print(\"An error occurred:\", str(e))\n",
    "\n",
    "# Example 1\n",
    "text1 = \"The quick brown fox jumps over the lazy dog.\"\n",
    "counts = count_pos_tags(text1)\n",
    "print(counts)\n",
    "print(\"Explanation: In this case, there are 2 nouns (fox, dog), 0 pronouns, 1 verb (jumps), and 2 adjectives (quick, brown) in the given text.\")\n",
    "\n",
    "#Example 2\n",
    "text2 = \"She sings beautifully and dances gracefully.\"\n",
    "counts = count_pos_tags(text2)\n",
    "print(counts)\n",
    "print(\"Explanation: In this case, there are 0 nouns, 1 pronoun (She), 2 verbs (sings, dances), and 2 adjectives (beautifully, gracefully) in the given text.\")"
   ]
  },
  {
   "cell_type": "code",
   "execution_count": null,
   "metadata": {},
   "outputs": [],
   "source": []
  }
 ],
 "metadata": {
  "kernelspec": {
   "display_name": "base",
   "language": "python",
   "name": "python3"
  },
  "language_info": {
   "codemirror_mode": {
    "name": "ipython",
    "version": 3
   },
   "file_extension": ".py",
   "mimetype": "text/x-python",
   "name": "python",
   "nbconvert_exporter": "python",
   "pygments_lexer": "ipython3",
   "version": "3.9.7"
  },
  "orig_nbformat": 4
 },
 "nbformat": 4,
 "nbformat_minor": 2
}
