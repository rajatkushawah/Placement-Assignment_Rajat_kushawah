{
 "cells": [
  {
   "cell_type": "code",
   "execution_count": 1,
   "metadata": {},
   "outputs": [
    {
     "name": "stdout",
     "output_type": "stream",
     "text": [
      "Length of the highest-frequency word: 5\n",
      "Explanation: From the given string we can note that the most frequent words are “write” and “from” and the maximum value of both the values is “write” and its corresponding length is 5.\n",
      "Length of the highest-frequency word: 8\n",
      "Explanation: From the given string we can note that the most frequent words are “rajat” and “kushawah” and the maximum value of both the values is “kushawah” and its corresponding length is 8.\n",
      "Length of the highest-frequency word: 4\n",
      "Explanation: From the given string we can note that the most frequent word is “data” and its corresponding length is 4.\n"
     ]
    }
   ],
   "source": [
    "from collections import Counter\n",
    "\n",
    "def find_highest_frequency_length(input_string):\n",
    "    try:\n",
    "        # Split the string into words\n",
    "        words = input_string.split()\n",
    "\n",
    "        # Count the frequency of each word\n",
    "        word_counts = Counter(words)\n",
    "\n",
    "        # Find the word(s) with the highest frequency\n",
    "        max_frequency = max(word_counts.values())\n",
    "        highest_frequency_words = [word for word, count in word_counts.items() if count == max_frequency]\n",
    "\n",
    "        # Find the length of the highest-frequency word\n",
    "        highest_frequency_length = max(len(word) for word in highest_frequency_words)\n",
    "\n",
    "        return highest_frequency_length\n",
    "    except Exception as e:\n",
    "        print(\"An error occurred:\", str(e))\n",
    "        return None\n",
    "\n",
    "# Test Case 1\n",
    "input_string1 = \"write write write all the number from from from 1 to 100\"\n",
    "result1 = find_highest_frequency_length(input_string1)\n",
    "print(\"Length of the highest-frequency word:\", result1)\n",
    "print(\"Explanation: From the given string we can note that the most frequent words are “write” and “from” and the maximum value of both the values is “write” and its corresponding length is 5.\")\n",
    "\n",
    "# Test Case 2\n",
    "input_string2 = \"rajat kushawah kushawah rajat is a student of ineuron.\"\n",
    "result2 = find_highest_frequency_length(input_string2)\n",
    "print(\"Length of the highest-frequency word:\", result2)\n",
    "print(\"Explanation: From the given string we can note that the most frequent words are “rajat” and “kushawah” and the maximum value of both the values is “kushawah” and its corresponding length is 8.\")\n",
    "\n",
    "# Test Case 3\n",
    "input_string3 = \"ineuron full full stack data data data science FSDS.\"\n",
    "result3 = find_highest_frequency_length(input_string3)\n",
    "print(\"Length of the highest-frequency word:\", result3)\n",
    "print(\"Explanation: From the given string we can note that the most frequent word is “data” and its corresponding length is 4.\")"
   ]
  }
 ],
 "metadata": {
  "kernelspec": {
   "display_name": "base",
   "language": "python",
   "name": "python3"
  },
  "language_info": {
   "codemirror_mode": {
    "name": "ipython",
    "version": 3
   },
   "file_extension": ".py",
   "mimetype": "text/x-python",
   "name": "python",
   "nbconvert_exporter": "python",
   "pygments_lexer": "ipython3",
   "version": "3.9.7"
  },
  "orig_nbformat": 4
 },
 "nbformat": 4,
 "nbformat_minor": 2
}
